{
  "cells": [
    {
      "cell_type": "markdown",
      "metadata": {
        "id": "view-in-github",
        "colab_type": "text"
      },
      "source": [
        "<a href=\"https://colab.research.google.com/github/kirant16/kirant16/blob/main/Python_Assignment.ipynb\" target=\"_parent\"><img src=\"https://colab.research.google.com/assets/colab-badge.svg\" alt=\"Open In Colab\"/></a>"
      ]
    },
    {
      "cell_type": "markdown",
      "metadata": {
        "id": "l0ZzOlyxB-kf"
      },
      "source": [
        "<h1>Python: without numpy or sklearn </h1>"
      ]
    },
    {
      "cell_type": "markdown",
      "metadata": {
        "id": "C0xO8JV9B-ki"
      },
      "source": [
        "<h3> Q1: Given two matrices please print the product of those two matrices </h3>\n",
        "<pre>\n",
        "\n",
        "Ex 1: A   = [[1 3 4]\n",
        "             [2 5 7]\n",
        "             [5 9 6]]\n",
        "      B   = [[1 0 0]\n",
        "             [0 1 0]\n",
        "             [0 0 1]]\n",
        "      A*B = [[1 3 4]\n",
        "             [2 5 7]\n",
        "             [5 9 6]]\n",
        "\n",
        "     \n",
        "Ex 2: A   = [[1 2]\n",
        "             [3 4]]\n",
        "      B   = [[1 2 3 4 5]\n",
        "             [5 6 7 8 9]]\n",
        "      A*B = [[11 14 17 20 23]\n",
        "             [23 30 37 44 51]]\n",
        "             \n",
        "Ex 3: A   = [[1 2]\n",
        "             [3 4]]\n",
        "      B   = [[1 4]\n",
        "             [5 6]\n",
        "             [7 8]\n",
        "             [9 6]]\n",
        "      A*B =Not possible\n",
        "</pre>"
      ]
    },
    {
      "cell_type": "code",
      "source": [
        "RA = int(input(\"Enter the number of rows for Matrix A:\"))\n",
        "CA = int(input(\"Enter the number of columns for Matrix A:\"))\n",
        "print(\"Enter Matrix A row wise and hit enter after every element input \")\n",
        "A = [[int(input()) for x in range (CA)] for y in range(RA)]\n",
        "print(\"Matrix A:\")\n",
        "print(A)\n",
        "RB = int(input(\"Enter the number of rows for Matrix B:\"))\n",
        "CB = int(input(\"Enter the number of columns for Matrix B:\"))\n",
        "print(\"Enter Matrix B row wise and hit enter after every element input\")\n",
        "B = [[int(input()) for x in range (CB)] for y in range(RB)]\n",
        "print(\"Matrix B:\")\n",
        "print(B)"
      ],
      "metadata": {
        "colab": {
          "base_uri": "https://localhost:8080/"
        },
        "id": "0YUc57BLhW8C",
        "outputId": "dc142607-c177-49cf-cdcd-dab8bc6f4aa5"
      },
      "execution_count": null,
      "outputs": [
        {
          "output_type": "stream",
          "name": "stdout",
          "text": [
            "Enter the number of rows for Matrix A:3\n",
            "Enter the number of columns for Matrix A:3\n",
            "Enter Matrix A row wise and hit enter after every element input \n",
            "1\n",
            "3\n",
            "4\n",
            "2\n",
            "5\n",
            "7\n",
            "5\n",
            "9\n",
            "6\n",
            "Matrix A:\n",
            "[[1, 3, 4], [2, 5, 7], [5, 9, 6]]\n",
            "Enter the number of rows for Matrix B:3\n",
            "Enter the number of columns for Matrix B:3\n",
            "Enter Matrix B row wise and hit enter after every element input\n",
            "1\n",
            "0\n",
            "0\n",
            "0\n",
            "1\n",
            "0\n",
            "0\n",
            "0\n",
            "1\n",
            "Matrix B:\n",
            "[[1, 0, 0], [0, 1, 0], [0, 0, 1]]\n"
          ]
        }
      ]
    },
    {
      "cell_type": "code",
      "source": [
        "def matrix_mul(A, B,result):\n",
        "    # write your code\n",
        "    for i in range(len(A)):\n",
        "        for j in range(len(B[0])):\n",
        "            for k in range(len(B)):\n",
        "                result[i][j] += A[i][k] * B[k][j]\n",
        " \n",
        "    for r in result:\n",
        "        print(r)\n",
        "    return r"
      ],
      "metadata": {
        "id": "kpmbystnhaev"
      },
      "execution_count": null,
      "outputs": []
    },
    {
      "cell_type": "code",
      "source": [
        "if CA==RB:\n",
        "    result = []\n",
        "    for i in range(RA):        \n",
        "        z =[]\n",
        "        for j in range(CB):     \n",
        "             z.append(0)\n",
        "        result.append(z)\n",
        "\n",
        "    print(\"Matrix A *B Results :\")\n",
        "    matrix_mul(A, B,result)\n",
        "    \n",
        "else:\n",
        "    print(\"Matrix multiplication not possible\")"
      ],
      "metadata": {
        "colab": {
          "base_uri": "https://localhost:8080/"
        },
        "id": "iwdEYEHYhdi7",
        "outputId": "5fa9f923-3635-4f92-d140-ab4f6f4ab893"
      },
      "execution_count": null,
      "outputs": [
        {
          "output_type": "stream",
          "name": "stdout",
          "text": [
            "Matrix A *B Results :\n",
            "[1, 3, 4]\n",
            "[2, 5, 7]\n",
            "[5, 9, 6]\n"
          ]
        }
      ]
    },
    {
      "cell_type": "markdown",
      "metadata": {
        "id": "at4VwLggB-kn"
      },
      "source": [
        "<h3> Q2: Proportional Sampling - Select a number randomly with probability proportional to its magnitude from the given array of n elements</h3>\n",
        "\n",
        "Consider an experiment, selecting an element from the list A randomly with probability proportional to its magnitude.\n",
        "assume we are doing the same experiment for 100 times with replacement, in each experiment you will print a number that is selected randomly from A.\n",
        "\n",
        "<pre>\n",
        "Ex 1: A = [0 5 27 6 13 28 100 45 10 79]\n",
        "let f(x) denote the number of times x getting selected in 100 experiments.\n",
        "f(100) > f(79) > f(45) > f(28) > f(27) > f(13) > f(10) > f(6) > f(5) > f(0)\n",
        "</pre>"
      ]
    },
    {
      "cell_type": "code",
      "source": [
        "list_idx = int(input(\"Enter the number of elements for list:\"))\n",
        "lst =[]\n",
        "for i in range(list_idx):\n",
        "   lst.append(float(input()))\n",
        "\n",
        "print(lst)"
      ],
      "metadata": {
        "colab": {
          "base_uri": "https://localhost:8080/"
        },
        "id": "QyUvt3tf89_D",
        "outputId": "869ccb4e-4f70-40f6-8002-56335f646427"
      },
      "execution_count": null,
      "outputs": [
        {
          "output_type": "stream",
          "name": "stdout",
          "text": [
            "Enter the number of elements for list:5\n",
            "2.0\n",
            "6.0\n",
            "1.2\n",
            "5.8\n",
            "20.0\n",
            "[2.0, 6.0, 1.2, 5.8, 20.0]\n"
          ]
        }
      ]
    },
    {
      "cell_type": "code",
      "source": [
        "sum_val =0\n",
        "for i in range(len(lst)):\n",
        "  sum_val += lst[i]\n",
        "  #print(sum_val)\n",
        "\n",
        "lst_dash=[]\n",
        "cum_sum = [0]\n",
        "for i in range(len(lst)):\n",
        "  lst_dash.append(lst[i]/sum_val)\n",
        "  #cum_sum.append(0)\n",
        "#print(lst_dash)\n",
        "#print(cum_sum)\n",
        "\n",
        "for i in range(len(lst)):\n",
        "  cum_sum.append(cum_sum[i]+lst_dash[i])\n",
        "  #print(cum_sum)\n",
        "del cum_sum[0]\n",
        "#print(cum_sum)"
      ],
      "metadata": {
        "id": "ik7c9Rjk-Fte"
      },
      "execution_count": null,
      "outputs": []
    },
    {
      "cell_type": "code",
      "source": [
        "from random import uniform\n",
        "import numpy as np\n",
        "\n",
        "r = np.random.uniform(0,1)\n",
        "r"
      ],
      "metadata": {
        "colab": {
          "base_uri": "https://localhost:8080/"
        },
        "id": "XxAiIpYcE6DN",
        "outputId": "4dcdd53c-8355-4264-c8a5-4674921b786c"
      },
      "execution_count": null,
      "outputs": [
        {
          "output_type": "execute_result",
          "data": {
            "text/plain": [
              "0.3133873291854964"
            ]
          },
          "metadata": {},
          "execution_count": 46
        }
      ]
    },
    {
      "cell_type": "code",
      "source": [
        "final_val =0\n",
        "for i in range(len(cum_sum)):\n",
        "  if r <= cum_sum[i]:\n",
        "    final_val = lst[i]\n",
        "    break\n",
        "    \n",
        "print(final_val)"
      ],
      "metadata": {
        "colab": {
          "base_uri": "https://localhost:8080/"
        },
        "id": "cC0CLiLDFjAN",
        "outputId": "be24458e-e636-4f4f-805f-c17f416451f7"
      },
      "execution_count": null,
      "outputs": [
        {
          "output_type": "stream",
          "name": "stdout",
          "text": [
            "5.8\n"
          ]
        }
      ]
    },
    {
      "cell_type": "markdown",
      "metadata": {
        "id": "D1xQy2WWB-kq"
      },
      "source": [
        "<h3> Q3: Replace the digits in the string with #</h3>\n",
        "\n",
        "consider a string that will have digits in that, we need to remove all the not digits and replace the digits with #\n",
        "<pre>\n",
        "Ex 1: A = 234                Output: ###\n",
        "Ex 2: A = a2b3c4             Output: ###\n",
        "Ex 3: A = abc                Output:   (empty string)\n",
        "Ex 5: A = #2a$#b%c%561#      Output: ####\n",
        "</pre>"
      ]
    },
    {
      "cell_type": "code",
      "source": [
        "String = str(input(\"Enter the string input:\"))"
      ],
      "metadata": {
        "colab": {
          "base_uri": "https://localhost:8080/"
        },
        "id": "2U-vBPepLlwZ",
        "outputId": "4fc0ad32-4ed1-449d-8242-5c63beb1763e"
      },
      "execution_count": null,
      "outputs": [
        {
          "name": "stdout",
          "output_type": "stream",
          "text": [
            "Enter the string input:1@%$&DFGKSKJ\n"
          ]
        }
      ]
    },
    {
      "cell_type": "code",
      "execution_count": null,
      "metadata": {
        "id": "fxczi2jzB-kr",
        "colab": {
          "base_uri": "https://localhost:8080/"
        },
        "outputId": "b8aafb48-78ef-4d72-df52-983d4ce3a1a4"
      },
      "outputs": [
        {
          "output_type": "stream",
          "name": "stdout",
          "text": [
            "#\n"
          ]
        }
      ],
      "source": [
        "import re\n",
        "# write your python code here\n",
        "# you can take the above example as sample input for your program to test\n",
        "# it should work for any general input try not to hard code for only given input examples\n",
        "# try to complete this question using regular expressions\n",
        "# you can free to change all these codes/structure\n",
        "# String: it will be the input to your program\n",
        "def replace_digits(input_string):\n",
        "    # write your code\n",
        "    x = re.sub(\"[0-9]\",\"#\", input_string)\n",
        "    y = re.findall(\"#\", x)\n",
        "    final_str = ''.join(y)\n",
        "    return(final_str) # modified string which is after replacing the # with digits\n",
        "\n",
        "result_str = replace_digits(String)\n",
        "print(result_str)"
      ]
    },
    {
      "cell_type": "markdown",
      "metadata": {
        "id": "j7h0Ywg7B-kw"
      },
      "source": [
        "<h3> Q4: Students marks dashboard</h3>\n",
        "\n",
        "consider the marks list of class students given two lists <br>\n",
        "Students = ['student1','student2','student3','student4','student5','student6','student7','student8','student9','student10'] <br>\n",
        "Marks = [45, 78, 12, 14, 48, 43, 45, 98, 22, 80] <br>\n",
        "from the above two lists the Student[0] got Marks[0],  Student[1] got Marks[1] and so on <br><br>\n",
        "your task is to print the name of students\n",
        "<strong>a. Who got top 5 ranks, in the descending order of marks</strong> <br>\n",
        "<strong>b. Who got least 5 ranks, in the increasing order of marks</strong><br>\n",
        "<strong>d. Who got marks between  &gt;25th percentile &lt;75th percentile, in the increasing order of marks</strong>\n",
        "\n",
        "<pre>\n",
        "Ex 1: \n",
        "Students=['student1','student2','student3','student4','student5','student6','student7','student8','student9','student10'] \n",
        "Marks = [45, 78, 12, 14, 48, 43, 47, 98, 22, 80]\n",
        "a. \n",
        "student8  98\n",
        "student10 80\n",
        "student2  78\n",
        "student5  48\n",
        "student7  47\n",
        "b.\n",
        "student3 12\n",
        "student4 14\n",
        "student9 22\n",
        "student6 43\n",
        "student1 45\n",
        "c.\n",
        "student9 22\n",
        "student6 43\n",
        "student1 45\n",
        "student7 47\n",
        "student5 48\n",
        "</pre>"
      ]
    },
    {
      "cell_type": "code",
      "source": [
        "import copy"
      ],
      "metadata": {
        "id": "OAHhCYatYy7_"
      },
      "execution_count": null,
      "outputs": []
    },
    {
      "cell_type": "code",
      "source": [
        "Students=['student1','student2','student3','student4','student5','student6','student7','student8','student9','student10'] \n",
        "Marks = [45, 78, 12, 14, 48, 43, 47, 98, 22, 80]"
      ],
      "metadata": {
        "id": "ATvyrAu6Z19c"
      },
      "execution_count": null,
      "outputs": []
    },
    {
      "cell_type": "code",
      "source": [
        "list_num = int(input(\"Enter the number of total Students:\"))\n",
        "#CA = int(input(\"Enter the number of columns for Matrix A:\"))\n",
        "print(\"Enter Student Name and hit enter after every element input \")\n",
        "Students = [str(input()) for x in range (list_num)]\n",
        "print(\"Enter Student Marks and hit enter after every element input \")\n",
        "Marks = [int(input()) for x in range (list_num)]\n",
        "print(Students)\n",
        "print(Marks)"
      ],
      "metadata": {
        "colab": {
          "base_uri": "https://localhost:8080/"
        },
        "id": "nLdbhfg3VVzA",
        "outputId": "237787db-c35c-4e75-a379-fe684ee1dc0a"
      },
      "execution_count": null,
      "outputs": [
        {
          "output_type": "stream",
          "name": "stdout",
          "text": [
            "Enter the number of total Students:4\n",
            "Enter Student Name and hit enter after every element input \n",
            "Std1\n",
            "Std2\n",
            "Std3\n",
            "Std4\n",
            "Enter Student Marks and hit enter after every element input \n",
            "98\n",
            "78\n",
            "65\n",
            "54\n",
            "['Std1', 'Std2', 'Std3', 'Std4']\n",
            "[98, 78, 65, 54]\n"
          ]
        }
      ]
    },
    {
      "cell_type": "code",
      "source": [
        "def top_5_list(Marks_desc1,Marks_original):\n",
        "  Marks_desc1.sort(reverse=True)\n",
        "  Marks_desc = Marks_desc1\n",
        "  top_5= Marks_desc[0:5]\n",
        "  print(Marks_desc)\n",
        "  print(\"Top 5 Students:\")\n",
        "  for i in range(len(top_5)):\n",
        "    for j in range(len(Marks_original)):\n",
        "      if top_5[i] == Marks_original[j]:\n",
        "        #print(\"Top 5 Students:\")\n",
        "        print(str(Students[j])+\" \"+ str(Marks_original[j]))\n",
        "\n",
        "  return 0\n"
      ],
      "metadata": {
        "id": "Rc05OjlCZ7fb"
      },
      "execution_count": null,
      "outputs": []
    },
    {
      "cell_type": "code",
      "source": [
        "def least_5_list(Marks_asc1,Marks_original):\n",
        "  Marks_asc1.sort(reverse=False)\n",
        "  Marks_asc = Marks_asc1\n",
        "  #print(Marks_asc)\n",
        "  least_5= Marks_asc[0:5]\n",
        " # print(least_5)\n",
        "  print(\"Least 5 Students:\")\n",
        "  for i in range(len(least_5)):\n",
        "    for j in range(len(Marks_original)):\n",
        "      if least_5[i] == Marks_original[j]:\n",
        "        print(str(Students[j])+\" \"+ str(Marks_original[j]))\n",
        "  return Marks_asc"
      ],
      "metadata": {
        "id": "fA7jXVluWQLN"
      },
      "execution_count": null,
      "outputs": []
    },
    {
      "cell_type": "code",
      "source": [
        "def interquartile_list(Marks_asc,Marks_original):\n",
        "  start_p = 25/100\n",
        "  end_p = 75/100\n",
        "  Start_pos = round(len(Marks_asc)*start_p)\n",
        "  End_pos = round(len(Marks_asc)*end_p)\n",
        "  print(\" All Data Points between 25th and 75th Percentile\")\n",
        "  Interquartile_range = Marks_asc[Start_pos:End_pos]\n",
        "  #print(Interquartile_range)\n",
        "  for i in range(len(Interquartile_range)-1):\n",
        "    for j in range(len(Marks_original)):\n",
        "      if Interquartile_range[i] == Marks_original[j]:\n",
        "        print(str(Students[j])+\" \"+ str(Marks_original[j]))\n",
        "  return 0"
      ],
      "metadata": {
        "id": "T_U-t91UWD5G"
      },
      "execution_count": null,
      "outputs": []
    },
    {
      "cell_type": "code",
      "execution_count": null,
      "metadata": {
        "id": "cxPJgItsB-kx",
        "colab": {
          "base_uri": "https://localhost:8080/"
        },
        "outputId": "633bbbe2-9ef9-430b-c4bc-979d6865cafd"
      },
      "outputs": [
        {
          "output_type": "stream",
          "name": "stdout",
          "text": [
            "[98, 78, 65, 54]\n",
            "Top 5 Students:\n",
            "Std1 98\n",
            "Std2 78\n",
            "Std3 65\n",
            "Std4 54\n",
            "Least 5 Students:\n",
            "Std4 54\n",
            "Std3 65\n",
            "Std2 78\n",
            "Std1 98\n",
            " All Data Points between 25th and 75th Percentile\n",
            "Std3 65\n"
          ]
        }
      ],
      "source": [
        "# write your python code here\n",
        "# you can take the above example as sample input for your program to test\n",
        "# it should work for any general input try not to hard code for only given input examples\n",
        "\n",
        "# you can free to change all these codes/structure\n",
        "def display_dash_board(students, marks):\n",
        "  Marks_original = copy.deepcopy(Marks)\n",
        "  Marks_asc1 = copy.deepcopy(Marks)\n",
        "  Marks_desc1 = copy.deepcopy(Marks)\n",
        "  type(Marks_original)\n",
        "    # write code for computing top top 5 students\n",
        "  top_5_students = top_5_list(Marks_desc1,Marks_original)\n",
        "  # write code for computing top least 5 students\n",
        "  least_5_students = least_5_list(Marks_asc1,Marks_original)\n",
        "  # write code for computing top least 5 students\n",
        "  students_within_25_and_75 = interquartile_list(least_5_students,Marks_original)\n",
        "    \n",
        "  return top_5_students, least_5_students, students_within_25_and_75\n",
        "\n",
        "top_5_students, least_5_students, students_within_25_and_75 = display_dash_board(Students, Marks)\n",
        "#print(# those values)"
      ]
    },
    {
      "cell_type": "markdown",
      "metadata": {
        "id": "qha0OhQHB-k1"
      },
      "source": [
        "<h3> Q5: Find the closest points</h3>\n",
        "\n",
        "Consider you have given n data points in the form of list of tuples like S=[(x1,y1),(x2,y2),(x3,y3),(x4,y4),(x5,y5),..,(xn,yn)] and a point P=(p,q) <br> Your task is to find 5 closest points(based on cosine distance) in S from P\n",
        "<br>Cosine distance between two points (x,y) and (p,q) is defind as $cos^{-1}(\\frac{(x\\cdot p+y\\cdot q)}{\\sqrt(x^2+y^2)\\cdot\\sqrt(p^2+q^2)})$\n",
        "<pre>\n",
        "Ex:\n",
        "\n",
        "S= [(1,2),(3,4),(-1,1),(6,-7),(0, 6),(-5,-8),(-1,-1),(6,0),(1,-1)]\n",
        "P= (3,-4)\n",
        "\n",
        "<img src='https://i.imgur.com/vyZZQGu.png' width=400>\n",
        "\n",
        "Output:\n",
        "(6,-7)\n",
        "(1,-1)\n",
        "(6,0)\n",
        "(-5,-8)\n",
        "(-1,-1)\n",
        "</pre>\n",
        " Hint - If you write the formula correctly you'll get the distance between points (6,-7) and (3,-4) = 0.065"
      ]
    },
    {
      "cell_type": "code",
      "execution_count": null,
      "metadata": {
        "id": "wA5I1g-2B-k2",
        "colab": {
          "base_uri": "https://localhost:8080/"
        },
        "outputId": "9d206a08-607e-45d3-9a6e-eec2a378be8f"
      },
      "outputs": [
        {
          "output_type": "stream",
          "name": "stdout",
          "text": [
            "Five Closest point:\n",
            "(6, -7)\n",
            "(1, -1)\n",
            "(6, 0)\n",
            "(-5, -8)\n",
            "(-1, -1)\n"
          ]
        }
      ],
      "source": [
        "import math\n",
        "\n",
        "# write your python code here\n",
        "# you can take the above example as sample input for your program to test\n",
        "# it should work for any general input try not to hard code for only given input examples\n",
        "# you can free to change all these codes/structure\n",
        "\n",
        "\n",
        "# here S is list of tuples and P is a tuple ot len=2\n",
        "def closest_points_to_p(S, P):\n",
        "    distance_val =[]\n",
        "    closest_points_to_p=[]\n",
        "    for i in S:\n",
        "      X2 = i[0]**2\n",
        "      y2 = i[1]**2\n",
        "      p2= P[0]**2\n",
        "      q2= P[1]**2\n",
        "      Numerator = (i[0]*P[0])+(i[1]*P[1])\n",
        "      Dr1 = math.sqrt(X2+y2)\n",
        "      Dr2 = math.sqrt(p2+q2)\n",
        "      Denominator = Dr1*Dr2\n",
        "      final_val = Numerator/Denominator\n",
        "      cosine_distance = math.acos(final_val)\n",
        "      distance_val.append((cosine_distance, i))\n",
        "      #print(cosine_distance)\n",
        "    for item in sorted(distance_val, key=lambda x: x[0])[:5]:\n",
        "        closest_points_to_p.append(item[1])\n",
        "    # write your code here\n",
        "    return closest_points_to_p  # its list of tuples\n",
        "\n",
        "S= [(1,2),(3,4),(-1,1),(6,-7),(0, 6),(-5,-8),(-1,-1),(6,0),(1,-1)]\n",
        "P= (3,-4)\n",
        "points = closest_points_to_p(S, P)\n",
        "print(\"Five Closest point:\", *[point for point in points], sep=\"\\n\")\n",
        "\n",
        "#print() #print the returned values"
      ]
    },
    {
      "cell_type": "markdown",
      "metadata": {
        "id": "-g11jeAiB-k5"
      },
      "source": [
        "<h3> Q6: Find Which line separates oranges and apples</h3>\n",
        "consider you have given two set of data points in the form of list of tuples like \n",
        "<pre>\n",
        "Red =[(R11,R12),(R21,R22),(R31,R32),(R41,R42),(R51,R52),..,(Rn1,Rn2)]\n",
        "Blue=[(B11,B12),(B21,B22),(B31,B32),(B41,B42),(B51,B52),..,(Bm1,Bm2)]\n",
        "</pre>\n",
        "and set of line equations(in the string formate, i.e list of strings)\n",
        "<pre>\n",
        "Lines = [a1x+b1y+c1,a2x+b2y+c2,a3x+b3y+c3,a4x+b4y+c4,..,K lines]\n",
        "Note: you need to string parsing here and get the coefficients of x,y and intercept\n",
        "</pre>\n",
        "your task is to for each line that is given print \"YES\"/\"NO\", you will print yes, if all the red points are one side of the line and blue points are other side of the line, otherwise no\n",
        "<pre>\n",
        "Ex:\n",
        "Red= [(1,1),(2,1),(4,2),(2,4), (-1,4)]\n",
        "Blue= [(-2,-1),(-1,-2),(-3,-2),(-3,-1),(1,-3)]\n",
        "Lines=[\"1x+1y+0\",\"1x-1y+0\",\"1x+0y-3\",\"0x+1y-0.5\"]\n",
        "<img src='https://i.imgur.com/mSnQW5K.png' width=400>\n",
        "\n",
        "Output:\n",
        "YES\n",
        "NO\n",
        "NO\n",
        "YES\n",
        "</pre>"
      ]
    },
    {
      "cell_type": "code",
      "execution_count": 32,
      "metadata": {
        "id": "eRxExaTRB-k6",
        "colab": {
          "base_uri": "https://localhost:8080/"
        },
        "outputId": "144ef603-8baa-43de-8e17-f23dd9bba41f"
      },
      "outputs": [
        {
          "output_type": "stream",
          "name": "stdout",
          "text": [
            "Yes\n",
            "No\n",
            "No\n",
            "Yes\n"
          ]
        }
      ],
      "source": [
        "import math\n",
        "# write your python code here\n",
        "# you can take the above example as sample input for your program to test\n",
        "# it should work for any general input try not to hard code for only given input strings\n",
        "\n",
        "\n",
        "# you can free to change all these codes/structure\n",
        "def i_am_the_one(red,blue,i):\n",
        "    # your code\n",
        "    Red_point_val = -1 \n",
        "   \n",
        "    k = i\n",
        "    k = k.replace('x', '*%s' % Red[0][0])\n",
        "    k = k.replace('y', '*%s' % Red[0][1])\n",
        "    if eval(k)>0:\n",
        "      Red_point_val = 1\n",
        "\n",
        "    Blue_point_val = -1 * Red_point_val\n",
        "    \n",
        "    for idx in red:\n",
        "      r= i\n",
        "      r = r.replace('x', '*%s' % idx[0])\n",
        "      r = r.replace('y', '*%s' % idx[1])\n",
        "      if Red_point_val == 1 and eval(r)<0:\n",
        "        return \"No\"\n",
        "      if Red_point_val == -1 and eval(r) >0:\n",
        "        return \"No\"\n",
        "    \n",
        "    for idx in blue:\n",
        "      b = i\n",
        "      b = b.replace('x', '*%s' % idx[0])\n",
        "      b = b.replace('y', '*%s' % idx[1])\n",
        "      if Blue_point_val == 1 and eval(b)<0:\n",
        "        return \"No\"\n",
        "      if Blue_point_val == -1 and eval(b) >0:\n",
        "        return \"No\"\n",
        "\n",
        "    return \"Yes\"\n",
        "\n",
        "Red= [(1,1),(2,1),(4,2),(2,4), (-1,4)]\n",
        "Blue= [(-2,-1),(-1,-2),(-3,-2),(-3,-1),(1,-3)]\n",
        "Lines=[\"1x+1y+0\",\"1x-1y+0\",\"1x+0y-3\",\"0x+1y-0.5\"]\n",
        "\n",
        "for i in Lines:\n",
        "    yes_or_no = i_am_the_one(Red, Blue, i)\n",
        "    print(yes_or_no) # the returned value"
      ]
    },
    {
      "cell_type": "markdown",
      "metadata": {
        "id": "9OBpURbNB-k9"
      },
      "source": [
        "<h3> Q7: Filling the missing values in the specified formate</h3>\n",
        "You will be given a string with digits and '\\_'(missing value) symbols you have to replace the '\\_' symbols as explained \n",
        "<pre>\n",
        "Ex 1: _, _, _, 24 ==> 24/4, 24/4, 24/4, 24/4 i.e we. have distributed the 24 equally to all 4 places <br>\n",
        "Ex 2: 40, _, _, _, 60 ==> (60+40)/5,(60+40)/5,(60+40)/5,(60+40)/5,(60+40)/5 ==> 20, 20, 20, 20, 20 i.e. the sum of (60+40) is distributed qually to all 5 places<br>\n",
        "Ex 3: 80, _, _, _, _  ==> 80/5,80/5,80/5,80/5,80/5 ==> 16, 16, 16, 16, 16 i.e. the 80 is distributed qually to all 5 missing values that are right to it<br>\n",
        "Ex 4: _, _, 30, _, _, _, 50, _, _  \n",
        "==> we will fill the missing values from left to right \n",
        "    a. first we will distribute the 30 to left two missing values (10, 10, 10, _, _, _, 50, _, _)\n",
        "    b. now distribute the sum (10+50) missing values in between (10, 10, 12, 12, 12, 12, 12, _, _) \n",
        "    c. now we will distribute 12 to right side missing values (10, 10, 12, 12, 12, 12, 4, 4, 4)\n",
        "</pre>\n",
        "for a given string with comma seprate values, which will have both missing values numbers like ex: \"_, _, x, _, _, _\"\n",
        "you need fill the missing values\n",
        "\n",
        "Q: your program reads a string like ex: \"_, _, x, _, _, _\" and returns the filled sequence\n",
        "\n",
        "Ex: \n",
        "<pre>\n",
        "Input1: \"_,_,_,24\"\n",
        "Output1: 6,6,6,6\n",
        "\n",
        "Input2: \"40,_,_,_,60\"\n",
        "Output2: 20,20,20,20,20\n",
        "\n",
        "Input3: \"80,_,_,_,_\"\n",
        "Output3: 16,16,16,16,16\n",
        "\n",
        "Input4: \"_,_,30,_,_,_,50,_,_\"\n",
        "Output4: 10,10,12,12,12,12,4,4,4\n",
        "\n",
        "</pre>\n",
        "\n"
      ]
    },
    {
      "cell_type": "code",
      "execution_count": 149,
      "metadata": {
        "id": "nZmpzHs_B-k-",
        "colab": {
          "base_uri": "https://localhost:8080/"
        },
        "outputId": "427b545e-230a-4916-c671-87751f3c2379"
      },
      "outputs": [
        {
          "output_type": "stream",
          "name": "stdout",
          "text": [
            "[10, 10, 12, 12, 12, 12, 4, 4, 4]\n"
          ]
        }
      ],
      "source": [
        "# write your python code here\n",
        "# you can take the above example as sample input for your program to test\n",
        "# it should work for any general input try not to hard code for only given input strings\n",
        "#run your code in the function for each of the inputs mentioned above and make sure that you get the same results\n",
        "\n",
        "# you can free to change all these codes/structure\n",
        "import re\n",
        "def curve_smoothing(string):\n",
        "    # your code\n",
        "    x = re.sub(\"_\", \"0\", S)\n",
        "    lx = re.split(\",\", x)\n",
        "    lst_S =[]\n",
        "    idx =[]\n",
        "    for i in lx:\n",
        "      lst_S.append(int(i))\n",
        "      if int(i)>0:\n",
        "        idx.append(lst_S.index(int(i)))\n",
        "    final_lst = []\n",
        "    val = lst_S[idx[0]]\n",
        "    k = (idx[0]+1)\n",
        "    val1 = val/k\n",
        "    for i in range(k):\n",
        "      final_lst.append(int(val1))\n",
        "    \n",
        "    if len(idx)>1:\n",
        "      del final_lst[-1]\n",
        "      for x in range(len(idx)-1):\n",
        "        x = x+1\n",
        "        c = idx[x]\n",
        "        val2 = final_lst[0]+lst_S[c]\n",
        "        #print(val2)\n",
        "        for y in range(len(idx)-1):\n",
        "          val3 = idx[y]\n",
        "          y = y+1\n",
        "          val4 = idx[y]\n",
        "          len_val = val4 -val3 +1\n",
        "\n",
        "        #val3 = (idx[x]+1)-idx[x]+1\n",
        "        fial_val2 = val2/len_val\n",
        "        \n",
        "      for i in range(len_val):\n",
        "        final_lst.append(int(fial_val2))\n",
        "    if len(idx)< len(lst_S):\n",
        "      del final_lst[-1]\n",
        "      last = final_lst[-1]\n",
        "      #print(last)\n",
        "      len_last = len(lst_S) - idx[-1]\n",
        "      right_val = last/len_last\n",
        "      for i in range(len_last):\n",
        "        final_lst.append(int(right_val))\n",
        "      #print(final_lst) \n",
        "    return final_lst\n",
        "\n",
        "S=  \"_,_,30,_,_,_,50,_,_\"\n",
        "smoothed_values= curve_smoothing(S)\n",
        "print(smoothed_values)"
      ]
    },
    {
      "cell_type": "markdown",
      "metadata": {
        "id": "RBz4pzlfB-lB"
      },
      "source": [
        "<h3> Q8: Filling the missing values in the specified formate</h3>\n",
        "You will be given a list of lists, each sublist will be of length 2 i.e. [[x,y],[p,q],[l,m]..[r,s]]\n",
        "consider its like a martrix of n rows and two columns\n",
        "1. the first column F will contain only 5 uniques values (F1, F2, F3, F4, F5)\n",
        "2. the second column S will contain only 3 uniques values (S1, S2, S3)\n",
        "<pre>\n",
        "your task is to find\n",
        "a. Probability of P(F=F1|S==S1), P(F=F1|S==S2), P(F=F1|S==S3)\n",
        "b. Probability of P(F=F2|S==S1), P(F=F2|S==S2), P(F=F2|S==S3)\n",
        "c. Probability of P(F=F3|S==S1), P(F=F3|S==S2), P(F=F3|S==S3)\n",
        "d. Probability of P(F=F4|S==S1), P(F=F4|S==S2), P(F=F4|S==S3)\n",
        "e. Probability of P(F=F5|S==S1), P(F=F5|S==S2), P(F=F5|S==S3)\n",
        "</pre>\n",
        "Ex:\n",
        "\n",
        "<pre>\n",
        "[[F1,S1],[F2,S2],[F3,S3],[F1,S2],[F2,S3],[F3,S2],[F2,S1],[F4,S1],[F4,S3],[F5,S1]]\n",
        "\n",
        "a. P(F=F1|S==S1)=1/4, P(F=F1|S==S2)=1/3, P(F=F1|S==S3)=0/3\n",
        "b. P(F=F2|S==S1)=1/4, P(F=F2|S==S2)=1/3, P(F=F2|S==S3)=1/3\n",
        "c. P(F=F3|S==S1)=0/4, P(F=F3|S==S2)=1/3, P(F=F3|S==S3)=1/3\n",
        "d. P(F=F4|S==S1)=1/4, P(F=F4|S==S2)=0/3, P(F=F4|S==S3)=1/3\n",
        "e. P(F=F5|S==S1)=1/4, P(F=F5|S==S2)=0/3, P(F=F5|S==S3)=0/3\n",
        "</pre>\n",
        "\n",
        "\n"
      ]
    },
    {
      "cell_type": "code",
      "source": [
        "# Referred to stack overflow\n",
        "A = [['F1', 'S1'], ['F2', 'S2'], ['F3', 'S3'], ['F1', 'S2'], ['F2', 'S3'], ['F3', 'S2'], ['F2', 'S1'], ['F4', 'S1'], ['F4', 'S3'], ['F5', 'S1']]\n",
        "\n",
        "d1 = {\n",
        "'F1S1': 0,\n",
        "'F2S1': 0,\n",
        "'F3S1': 0,\n",
        "'F4S1': 0,\n",
        "'F5S1': 0,\n",
        "'F1S2': 0,\n",
        "'F2S2': 0,\n",
        "'F3S2': 0,\n",
        "'F4S2': 0,\n",
        "'F5S2': 0,\n",
        "'F1S3': 0,\n",
        "'F2S3': 0,\n",
        "'F3S3': 0,\n",
        "'F4S3': 0,\n",
        "'F5S3': 0,\n",
        "}\n",
        "\n",
        "d2 = {\n",
        "'S1': 0,\n",
        "'S2': 0,\n",
        "'S3': 0\n",
        "}\n",
        "\n",
        "\n",
        "def compute_conditional_probabilites(A):\n",
        "    for i in range(len(A)):\n",
        "       k = A[i][0] + A[i][1]\n",
        "       d1[k] += 1\n",
        "       d2[A[i][1]] += 1\n",
        "\n",
        "compute_conditional_probabilites(A)\n",
        "\n",
        "print('a.P(F=F1|S==S1)', (d1['F1S1']/d2['S1']), ', P(F=F1|S==S2)',(d1['F1S2']/d2['S2']),', P(F=F1|S==S3)',(d1['F1S3']/d2['S3']))\n",
        "print('b.P(F=F2|S==S1)', (d1['F2S1']/d2['S1']), ', P(F=F2|S==S2)',(d1['F2S2']/d2['S2']),', P(F=F2|S==S3)',(d1['F2S3']/d2['S3']))\n",
        "print('c.P(F=F3|S==S1)', (d1['F3S1']/d2['S1']), ', P(F=F3|S==S2)',(d1['F3S2']/d2['S2']),', P(F=F3|S==S3)',(d1['F3S3']/d2['S3']))\n",
        "print('d.P(F=F4|S==S1)', (d1['F4S1']/d2['S1']), ', P(F=F4|S==S2)',(d1['F4S2']/d2['S2']),', P(F=F4|S==S3)',(d1['F4S3']/d2['S3']))\n",
        "print('e.P(F=F5|S==S1)', (d1['F5S1']/d2['S1']), ', P(F=F5|S==S2)',(d1['F5S2']/d2['S2']),', P(F=F5|S==S3)',(d1['F5S3']/d2['S3']))\n",
        "\n"
      ],
      "metadata": {
        "colab": {
          "base_uri": "https://localhost:8080/"
        },
        "id": "JEzk-Lisp0tr",
        "outputId": "c8a7d8b2-f97f-4e32-f016-dc59851126ac"
      },
      "execution_count": 22,
      "outputs": [
        {
          "output_type": "stream",
          "name": "stdout",
          "text": [
            "a.P(F=F1|S==S1) 0.25 , P(F=F1|S==S2) 0.3333333333333333 , P(F=F1|S==S3) 0.0\n",
            "b.P(F=F2|S==S1) 0.25 , P(F=F2|S==S2) 0.3333333333333333 , P(F=F2|S==S3) 0.3333333333333333\n",
            "c.P(F=F3|S==S1) 0.0 , P(F=F3|S==S2) 0.3333333333333333 , P(F=F3|S==S3) 0.3333333333333333\n",
            "d.P(F=F4|S==S1) 0.25 , P(F=F4|S==S2) 0.0 , P(F=F4|S==S3) 0.3333333333333333\n",
            "e.P(F=F5|S==S1) 0.25 , P(F=F5|S==S2) 0.0 , P(F=F5|S==S3) 0.0\n"
          ]
        }
      ]
    },
    {
      "cell_type": "markdown",
      "metadata": {
        "id": "n4HS87QmB-lF"
      },
      "source": [
        "<h3> Q9: Given two sentances S1, S2</h3>\n",
        "You will be given two sentances S1, S2 your task is to find \n",
        "<pre>\n",
        "a. Number of common words between S1, S2\n",
        "b. Words in S1 but not in S2\n",
        "c. Words in S2 but not in S1\n",
        "</pre>\n",
        "\n",
        "Ex: \n",
        "<pre>\n",
        "S1= \"the first column F will contain only 5 uniques values\"\n",
        "S2= \"the second column S will contain only 3 uniques values\"\n",
        "Output:\n",
        "a. 7\n",
        "b. ['first','F','5']\n",
        "c. ['second','S','3']\n",
        "</pre>"
      ]
    },
    {
      "cell_type": "code",
      "execution_count": 39,
      "metadata": {
        "id": "Ez7hlHK0B-lG",
        "colab": {
          "base_uri": "https://localhost:8080/"
        },
        "outputId": "abf028cc-ae12-4417-9368-3199536690e9"
      },
      "outputs": [
        {
          "output_type": "stream",
          "name": "stdout",
          "text": [
            "7\n",
            "['first', 'F', '5']\n",
            "['second', 'S', '3']\n"
          ]
        }
      ],
      "source": [
        "# write your python code here\n",
        "# you can take the above example as sample input for your program to test\n",
        "# it should work for any general input try not to hard code for only given input strings\n",
        "\n",
        "# you can free to change all these codes/structure\n",
        "def string_features(S1, S2):\n",
        "    S3 = S1.split()\n",
        "    S4 = S2.split()\n",
        "    same =[]\n",
        "    Diff_S4=[]\n",
        "    for i in range(len(S3)):\n",
        "      for j in range(len(S4)):\n",
        "        if S3[i] == S4[j]:\n",
        "          same.append(S4[j])\n",
        "    a = len(same)\n",
        "    list_difference = []\n",
        "    for item in S3:\n",
        "      if item not in S4:\n",
        "        list_difference.append(item)\n",
        "\n",
        "    b = list_difference\n",
        "    list_difference_S4 = []\n",
        "    for item in S4:\n",
        "      if item not in S3:\n",
        "        list_difference_S4.append(item)\n",
        "\n",
        "    c = list_difference_S4\n",
        "    # your code\n",
        "    return a, b, c\n",
        "\n",
        "S1= \"the first column F will contain only 5 uniques values\"\n",
        "S2= \"the second column S will contain only 3 uniques values\"\n",
        "a,b,c = string_features(S1, S2)\n",
        "print(a)\n",
        "print(b)\n",
        "print(c)"
      ]
    },
    {
      "cell_type": "markdown",
      "metadata": {
        "id": "XefXVEjCB-lI"
      },
      "source": [
        "<h3> Q10: Given two sentances S1, S2</h3>\n",
        "You will be given a list of lists, each sublist will be of length 2 i.e. [[x,y],[p,q],[l,m]..[r,s]]\n",
        "consider its like a martrix of n rows and two columns\n",
        "\n",
        "a. the first column Y will contain interger values <br>\n",
        "b. the second column $Y_{score}$ will be having float values <br>\n",
        "Your task is to find the value of $f(Y,Y_{score}) = -1*\\frac{1}{n}\\Sigma_{for each Y,Y_{score} pair}(Ylog10(Y_{score})+(1-Y)log10(1-Y_{score}))$ here n is the number of rows in the matrix\n",
        "<pre>\n",
        "Ex:\n",
        "[[1, 0.4], [0, 0.5], [0, 0.9], [0, 0.3], [0, 0.6], [1, 0.1], [1, 0.9], [1, 0.8]]\n",
        "output:\n",
        "0.4243099\n",
        "</pre>\n",
        "$\\frac{-1}{8}\\cdot((1\\cdot log_{10}(0.4)+0\\cdot log_{10}(0.6))+(0\\cdot log_{10}(0.5)+1\\cdot log_{10}(0.5)) + ... + (1\\cdot log_{10}(0.8)+0\\cdot log_{10}(0.2)) )$"
      ]
    },
    {
      "cell_type": "code",
      "execution_count": 6,
      "metadata": {
        "id": "N9zkagyNB-lJ",
        "colab": {
          "base_uri": "https://localhost:8080/"
        },
        "outputId": "78092588-13e1-4df0-e728-3a5aed6b2c35"
      },
      "outputs": [
        {
          "output_type": "stream",
          "name": "stdout",
          "text": [
            "0.42430993457031635\n"
          ]
        }
      ],
      "source": [
        "# write your python code here\n",
        "# you can take the above example as sample input for your program to test\n",
        "# it should work for any general input try not to hard code for only given input strings\n",
        "\n",
        "import math as m\n",
        "# you can free to change all these codes/structure\n",
        "def compute_log_loss(A):\n",
        "    res = 0\n",
        "    for idx in A:\n",
        "      a= 0\n",
        "      b = 0\n",
        "      a = idx[0] * m.log10(idx[1])\n",
        "      b = (1- idx[0])*m.log10(1-idx[1])\n",
        "      res = a+b+res\n",
        "    len_log = len(A)\n",
        "    loss = (-1)*res/len_log\n",
        "    #print(final_log_val)\n",
        "    # your code\n",
        "    \n",
        "    return loss\n",
        "\n",
        "A = [[1, 0.4], [0, 0.5], [0, 0.9], [0, 0.3], [0, 0.6], [1, 0.1], [1, 0.9], [1, 0.8]]\n",
        "loss = compute_log_loss(A)\n",
        "print(loss)"
      ]
    },
    {
      "cell_type": "code",
      "source": [
        ""
      ],
      "metadata": {
        "id": "EgfHnvBAm4Zt"
      },
      "execution_count": null,
      "outputs": []
    }
  ],
  "metadata": {
    "colab": {
      "collapsed_sections": [],
      "name": "Copy of Python Assignment.ipynb",
      "provenance": [],
      "include_colab_link": true
    },
    "kernelspec": {
      "display_name": "Python 3",
      "language": "python",
      "name": "python3"
    },
    "language_info": {
      "codemirror_mode": {
        "name": "ipython",
        "version": 3
      },
      "file_extension": ".py",
      "mimetype": "text/x-python",
      "name": "python",
      "nbconvert_exporter": "python",
      "pygments_lexer": "ipython3",
      "version": "3.6.3"
    }
  },
  "nbformat": 4,
  "nbformat_minor": 0
}